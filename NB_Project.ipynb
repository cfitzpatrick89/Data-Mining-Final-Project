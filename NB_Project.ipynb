{
 "cells": [
  {
   "cell_type": "code",
   "execution_count": 196,
   "id": "c474dc69",
   "metadata": {
    "scrolled": true
   },
   "outputs": [
    {
     "name": "stdout",
     "output_type": "stream",
     "text": [
      "sex     0    1  Total\n",
      "cp                   \n",
      "0      28   73    101\n",
      "1      15   25     40\n",
      "2      21   33     54\n",
      "3       4   13     17\n",
      "Total  68  144    212\n",
      "\n",
      "restecg    0    1  Total\n",
      "cp                      \n",
      "0         55   46    101\n",
      "1         16   24     40\n",
      "2         25   29     54\n",
      "3         10    7     17\n",
      "Total    106  106    212\n",
      "fbs      0   1  Total\n",
      "cp                   \n",
      "0       91  10    101\n",
      "1       35   5     40\n",
      "2       44  10     54\n",
      "3       14   3     17\n",
      "Total  184  28    212\n",
      "Predicted   0  Total\n",
      "Actual              \n",
      "0          42     42\n",
      "1          10     10\n",
      "2          33     33\n",
      "3           6      6\n",
      "Total      91     91\n"
     ]
    },
    {
     "name": "stderr",
     "output_type": "stream",
     "text": [
      "/Users/cfitzpatrick/opt/anaconda3/lib/python3.9/site-packages/statsmodels/tools/tools.py:158: FutureWarning: categorical is deprecated. Use pandas Categorical to represent categorical data and can get_dummies to construct dummy arrays. It will be removed after release 0.13.\n",
      "  warnings.warn(\n",
      "/Users/cfitzpatrick/opt/anaconda3/lib/python3.9/site-packages/statsmodels/tools/tools.py:158: FutureWarning: categorical is deprecated. Use pandas Categorical to represent categorical data and can get_dummies to construct dummy arrays. It will be removed after release 0.13.\n",
      "  warnings.warn(\n"
     ]
    },
    {
     "data": {
      "image/png": "[encoded data removed]",
      "text/plain": [
       "<Figure size 432x288 with 1 Axes>"
      ]
     },
     "metadata": {
      "needs_background": "light"
     },
     "output_type": "display_data"
    },
    {
     "data": {
      "image/png": "[encoded data removed]",
      "text/plain": [
       "<Figure size 432x288 with 1 Axes>"
      ]
     },
     "metadata": {
      "needs_background": "light"
     },
     "output_type": "display_data"
    }
   ],
   "source": [
    "import pandas as pd\n",
    "from sklearn.model_selection import train_test_split\n",
    "import random \n",
    "import numpy as np\n",
    "import scipy.stats.distributions as dist\n",
    "import matplotlib.pyplot as plt\n",
    "import seaborn as sns\n",
    "from sklearn.naive_bayes import MultinomialNB\n",
    "import statsmodels.tools.tools as stattools\n",
    "\n",
    "\n",
    "#Read in data set\n",
    "heart = pd.read_csv(\"/Users/cfitzpatrick/Downloads/archive (3)/heart1.csv\")\n",
    "\n",
    "\n",
    "\n",
    "#Split\n",
    "heart_train, heart_test = train_test_split(heart, test_size = 0.30, random_state = 50)\n",
    "heart_test.shape\n",
    "\n",
    "#Validate the partition\n",
    "\n",
    "heart_train.value_counts()\n",
    "heart_train['cp'].value_counts()\n",
    "to_resample = heart_train.loc[heart_train['cp'] == 3]\n",
    "\n",
    "#Resample with 32 to reach 20%\n",
    "our_resample = to_resample.sample(n = 32, replace = True) \n",
    "\n",
    "heart_train_rebal = pd.concat([heart_train, our_resample])\n",
    "\n",
    "heart_train_rebal['cp'].value_counts()\n",
    "\n",
    "#New balanced values \n",
    "heart_train_rebal.cp.value_counts().tolist() \n",
    "\n",
    "#Naive Bayes\n",
    "\n",
    "t1= pd.crosstab(heart_train['cp'], heart_train['sex'])\n",
    "t1['Total'] = t1.sum(axis=1)\n",
    "t1.loc['Total'] = t1.sum()\n",
    "print(t1)\n",
    "\n",
    "print()\n",
    "\n",
    "t2= pd.crosstab(heart_train['cp'], heart_train['restecg'])\n",
    "t2['Total'] = t2.sum(axis=1)\n",
    "t2.loc['Total'] = t2.sum()\n",
    "print(t2)\n",
    "\n",
    "t3= pd.crosstab(heart_train['cp'], heart_train['fbs'])\n",
    "t3['Total'] = t3.sum(axis=1)\n",
    "t3.loc['Total'] = t3.sum()\n",
    "print(t3)\n",
    "\n",
    "\n",
    "t1_plot = pd.crosstab(heart_train_rebal['cp'], heart_train_rebal['sex'])\n",
    "t1_plot.plot(kind='bar', stacked = True)\n",
    "\n",
    "t2_plot = pd.crosstab(heart_train_rebal['cp'], heart_train_rebal['restecg'])\n",
    "t2_plot.plot(kind='bar', stacked = True)\n",
    "\n",
    "X_cp_ind = np.array(heart_train_rebal['cp'])\n",
    "(X_cp_ind , X_cp_ind_dict) = stattools.categorical(X_cp_ind, \n",
    "            drop=True, dictnames=True)\n",
    "X_cp_ind = pd.DataFrame(X_cp_ind)\n",
    "\n",
    "X_sex_ind = np.array(heart_train_rebal['sex'])\n",
    "(X_sex_ind , X_sex_ind_dict) = stattools.categorical(X_sex_ind, \n",
    "            drop=True, dictnames=True)\n",
    "X_sex_ind = pd.DataFrame(X_sex_ind)\n",
    "\n",
    "X_restecg_ind = np.array(heart_train_rebal['restecg'])\n",
    "(X_restecg_ind , X_restecg_ind_dict) = stattools.categorical(X_restecg_ind, \n",
    "            drop=True, dictnames=True)\n",
    "X_restecg_ind = pd.DataFrame(X_restecg_ind)\n",
    "\n",
    "X = pd.concat ((X_sex_ind, X_restecg_ind), axis = 1)\n",
    "\n",
    "\n",
    "Y = heart_train_rebal['cp']\n",
    "\n",
    "nb_01 = MultinomialNB().fit(X, Y)\n",
    "\n",
    "X_cp_ind_test = np.array(heart_test['cp'])\n",
    "(X_cp_ind_test , X_cp_ind_dict_test) = stattools.categorical(X_cp_ind_test, \n",
    "            drop=True, dictnames=True)\n",
    "X_cp_ind_test = pd.DataFrame(X_cp_ind_test)\n",
    "\n",
    "X_sex_ind_test = np.array(heart_test['sex'])\n",
    "(X_sex_ind_test , X_sex_ind_dict_test) = stattools.categorical(X_sex_ind_test, \n",
    "            drop=True, dictnames=True)\n",
    "X_sex_ind_test = pd.DataFrame(X_sex_ind_test)\n",
    "\n",
    "\n",
    "X_restecg_ind = np.array(heart_test['restecg'])\n",
    "(X_restecg_ind_test , X_restecg_ind_dict) = stattools.categorical(X_restecg_ind, \n",
    "            drop=True, dictnames=True)\n",
    "\n",
    "X_restecg_ind_test = pd.DataFrame(X_restecg_ind_test)\n",
    "\n",
    "\n",
    "\n",
    "\n",
    "X_test = pd.concat((X_sex_ind_test, X_restecg_ind_test), axis = 1)\n",
    "\n",
    "Y_predicted = nb_01.predict(X_test)\n",
    "\n",
    "\n",
    "\n",
    "ypred = pd.crosstab(heart_test['cp'], Y_predicted,\n",
    "                   rownames = ['Actual'],\n",
    "                   colnames = ['Predicted']);ypred\n",
    "ypred['Total'] = ypred.sum(axis=1); ypred.loc['Total'] = ypred.sum(); ypred\n",
    "\n",
    "\n",
    "print(ypred)\n",
    "\n",
    "\n",
    "\n",
    "\n"
   ]
  },
  {
   "cell_type": "code",
   "execution_count": 173,
   "id": "eb27798b",
   "metadata": {},
   "outputs": [
    {
     "data": {
      "text/html": [
       "<div>\n",
       "<style scoped>\n",
       "    .dataframe tbody tr th:only-of-type {\n",
       "        vertical-align: middle;\n",
       "    }\n",
       "\n",
       "    .dataframe tbody tr th {\n",
       "        vertical-align: top;\n",
       "    }\n",
       "\n",
       "    .dataframe thead th {\n",
       "        text-align: right;\n",
       "    }\n",
       "</style>\n",
       "<table border=\"1\" class=\"dataframe\">\n",
       "  <thead>\n",
       "    <tr style=\"text-align: right;\">\n",
       "      <th></th>\n",
       "      <th>0</th>\n",
       "      <th>1</th>\n",
       "      <th>0</th>\n",
       "      <th>1</th>\n",
       "    </tr>\n",
       "  </thead>\n",
       "  <tbody>\n",
       "    <tr>\n",
       "      <th>0</th>\n",
       "      <td>0.0</td>\n",
       "      <td>1.0</td>\n",
       "      <td>0.0</td>\n",
       "      <td>1.0</td>\n",
       "    </tr>\n",
       "    <tr>\n",
       "      <th>1</th>\n",
       "      <td>0.0</td>\n",
       "      <td>1.0</td>\n",
       "      <td>0.0</td>\n",
       "      <td>1.0</td>\n",
       "    </tr>\n",
       "    <tr>\n",
       "      <th>2</th>\n",
       "      <td>1.0</td>\n",
       "      <td>0.0</td>\n",
       "      <td>1.0</td>\n",
       "      <td>0.0</td>\n",
       "    </tr>\n",
       "    <tr>\n",
       "      <th>3</th>\n",
       "      <td>0.0</td>\n",
       "      <td>1.0</td>\n",
       "      <td>0.0</td>\n",
       "      <td>1.0</td>\n",
       "    </tr>\n",
       "    <tr>\n",
       "      <th>4</th>\n",
       "      <td>0.0</td>\n",
       "      <td>1.0</td>\n",
       "      <td>0.0</td>\n",
       "      <td>1.0</td>\n",
       "    </tr>\n",
       "  </tbody>\n",
       "</table>\n",
       "</div>"
      ],
      "text/plain": [
       "     0    1    0    1\n",
       "0  0.0  1.0  0.0  1.0\n",
       "1  0.0  1.0  0.0  1.0\n",
       "2  1.0  0.0  1.0  0.0\n",
       "3  0.0  1.0  0.0  1.0\n",
       "4  0.0  1.0  0.0  1.0"
      ]
     },
     "execution_count": 173,
     "metadata": {},
     "output_type": "execute_result"
    }
   ],
   "source": [
    "X.head()"
   ]
  },
  {
   "cell_type": "code",
   "execution_count": 172,
   "id": "33221286",
   "metadata": {},
   "outputs": [
    {
     "data": {
      "text/html": [
       "<div>\n",
       "<style scoped>\n",
       "    .dataframe tbody tr th:only-of-type {\n",
       "        vertical-align: middle;\n",
       "    }\n",
       "\n",
       "    .dataframe tbody tr th {\n",
       "        vertical-align: top;\n",
       "    }\n",
       "\n",
       "    .dataframe thead th {\n",
       "        text-align: right;\n",
       "    }\n",
       "</style>\n",
       "<table border=\"1\" class=\"dataframe\">\n",
       "  <thead>\n",
       "    <tr style=\"text-align: right;\">\n",
       "      <th></th>\n",
       "      <th>0</th>\n",
       "      <th>1</th>\n",
       "      <th>0</th>\n",
       "      <th>1</th>\n",
       "    </tr>\n",
       "  </thead>\n",
       "  <tbody>\n",
       "    <tr>\n",
       "      <th>0</th>\n",
       "      <td>1.0</td>\n",
       "      <td>0.0</td>\n",
       "      <td>0.0</td>\n",
       "      <td>1.0</td>\n",
       "    </tr>\n",
       "    <tr>\n",
       "      <th>1</th>\n",
       "      <td>0.0</td>\n",
       "      <td>1.0</td>\n",
       "      <td>0.0</td>\n",
       "      <td>1.0</td>\n",
       "    </tr>\n",
       "    <tr>\n",
       "      <th>2</th>\n",
       "      <td>0.0</td>\n",
       "      <td>1.0</td>\n",
       "      <td>1.0</td>\n",
       "      <td>0.0</td>\n",
       "    </tr>\n",
       "    <tr>\n",
       "      <th>3</th>\n",
       "      <td>1.0</td>\n",
       "      <td>0.0</td>\n",
       "      <td>1.0</td>\n",
       "      <td>0.0</td>\n",
       "    </tr>\n",
       "    <tr>\n",
       "      <th>4</th>\n",
       "      <td>0.0</td>\n",
       "      <td>1.0</td>\n",
       "      <td>0.0</td>\n",
       "      <td>1.0</td>\n",
       "    </tr>\n",
       "  </tbody>\n",
       "</table>\n",
       "</div>"
      ],
      "text/plain": [
       "     0    1    0    1\n",
       "0  1.0  0.0  0.0  1.0\n",
       "1  0.0  1.0  0.0  1.0\n",
       "2  0.0  1.0  1.0  0.0\n",
       "3  1.0  0.0  1.0  0.0\n",
       "4  0.0  1.0  0.0  1.0"
      ]
     },
     "execution_count": 172,
     "metadata": {},
     "output_type": "execute_result"
    }
   ],
   "source": [
    "X_test.head()"
   ]
  },
  {
   "cell_type": "code",
   "execution_count": 181,
   "id": "9bd48f0b",
   "metadata": {},
   "outputs": [
    {
     "name": "stdout",
     "output_type": "stream",
     "text": [
      "[0 0 0 0 0 0 0 0 0 0 0 0 0 0 0 0 0 0 0 0 0 0 0 0 0 0 0 0 0 0 0 0 0 0 0 0 0\n",
      " 0 0 0 0 0 0 0 0 0 0 0 0 0 0 0 0 0 0 0 0 0 0 0 0 0 0 0 0 0 0 0 0 0 0 0 0 0\n",
      " 0 0 0 0 0 0 0 0 0 0 0 0 0 0 0 0 0]\n"
     ]
    }
   ],
   "source": [
    "Y_predicted = nb_01.predict(X_test)\n",
    "\n",
    "print(Y_predicted)"
   ]
  },
  {
   "cell_type": "code",
   "execution_count": 171,
   "id": "77d05da6",
   "metadata": {},
   "outputs": [
    {
     "name": "stdout",
     "output_type": "stream",
     "text": [
      "[0 0 0 0 0 0 0 0 0 0 0 0 0 0 0 0 0 0 0 0 0 0 0 0 0 0 0 0 0 0 0 0 0 0 0 0 0\n",
      " 0 0 0 0 0 0 0 0 0 0 0 0 0 0 0 0 0 0 0 0 0 0 0 0 0 0 0 0 0 0 0 0 0 0 0 0 0\n",
      " 0 0 0 0 0 0 0 0 0 0 0 0 0 0 0 0 0]\n"
     ]
    }
   ],
   "source": [
    "X_test = pd.concat((X_sex_ind_test, X_restecg_ind_test), axis = 1)\n",
    "\n",
    "Y_predicted = nb_01.predict(X_test)\n",
    "\n",
    "ypred = pd.crosstab(heart_test['cp'], Y_predicted,\n",
    "                   rownames = ['Actual'],\n",
    "                   colnames = ['Predicted'])\n",
    "\n",
    "print(Y_predicted)"
   ]
  },
  {
   "cell_type": "code",
   "execution_count": 180,
   "id": "4efe9760",
   "metadata": {},
   "outputs": [
    {
     "name": "stdout",
     "output_type": "stream",
     "text": [
      "Predicted   0\n",
      "Actual       \n",
      "0          42\n",
      "1          10\n",
      "2          33\n",
      "3           6\n"
     ]
    }
   ],
   "source": [
    "\n",
    "print(ypred)"
   ]
  },
  {
   "cell_type": "code",
   "execution_count": 199,
   "id": "7c2da7db",
   "metadata": {},
   "outputs": [
    {
     "name": "stdout",
     "output_type": "stream",
     "text": [
      "       0    1    0    1\n",
      "0    0.0  1.0  1.0  0.0\n",
      "1    0.0  1.0  1.0  0.0\n",
      "2    1.0  0.0  0.0  1.0\n",
      "3    0.0  1.0  1.0  0.0\n",
      "4    0.0  1.0  0.0  1.0\n",
      "..   ...  ...  ...  ...\n",
      "239  0.0  1.0  0.0  1.0\n",
      "240  1.0  0.0  0.0  1.0\n",
      "241  1.0  0.0  0.0  1.0\n",
      "242  0.0  1.0  1.0  0.0\n",
      "243  0.0  1.0  1.0  0.0\n",
      "\n",
      "[244 rows x 4 columns]\n"
     ]
    }
   ],
   "source": [
    "print(X)"
   ]
  },
  {
   "cell_type": "code",
   "execution_count": 195,
   "id": "17df5f4b",
   "metadata": {},
   "outputs": [
    {
     "name": "stdout",
     "output_type": "stream",
     "text": [
      "[0 0 0 0 0 0 0 0 0 0 0 0 0 0 0 0 0 0 0 0 0 0 0 0 0 0 0 0 0 0 0 0 0 0 0 0 0\n",
      " 0 0 0 0 0 0 0 0 0 0 0 0 0 0 0 0 0 0 0 0 0 0 0 0 0 0 0 0 0 0 0 0 0 0 0 0 0\n",
      " 0 0 0 0 0 0 0 0 0 0 0 0 0 0 0 0 0]\n"
     ]
    }
   ],
   "source": [
    "print(Y_predicted)"
   ]
  },
  {
   "cell_type": "code",
   "execution_count": 198,
   "id": "b22b51eb",
   "metadata": {},
   "outputs": [
    {
     "name": "stdout",
     "output_type": "stream",
     "text": [
      "      0    1    0    1\n",
      "0   1.0  0.0  0.0  1.0\n",
      "1   0.0  1.0  0.0  1.0\n",
      "2   0.0  1.0  1.0  0.0\n",
      "3   1.0  0.0  1.0  0.0\n",
      "4   0.0  1.0  0.0  1.0\n",
      "..  ...  ...  ...  ...\n",
      "86  1.0  0.0  0.0  1.0\n",
      "87  0.0  1.0  1.0  0.0\n",
      "88  0.0  1.0  0.0  1.0\n",
      "89  1.0  0.0  0.0  1.0\n",
      "90  0.0  1.0  0.0  1.0\n",
      "\n",
      "[91 rows x 4 columns]\n"
     ]
    }
   ],
   "source": [
    "print(X_test)"
   ]
  },
  {
   "cell_type": "code",
   "execution_count": null,
   "id": "1e0e8d05",
   "metadata": {},
   "outputs": [],
   "source": []
  }
 ],
 "metadata": {
  "kernelspec": {
   "display_name": "Python 3 (ipykernel)",
   "language": "python",
   "name": "python3"
  },
  "language_info": {
   "codemirror_mode": {
    "name": "ipython",
    "version": 3
   },
   "file_extension": ".py",
   "mimetype": "text/x-python",
   "name": "python",
   "nbconvert_exporter": "python",
   "pygments_lexer": "ipython3",
   "version": "3.9.7"
  }
 },
 "nbformat": 4,
 "nbformat_minor": 5
}
